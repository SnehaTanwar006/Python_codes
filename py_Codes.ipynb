{
  "nbformat": 4,
  "nbformat_minor": 0,
  "metadata": {
    "colab": {
      "provenance": [],
      "authorship_tag": "ABX9TyOezsuHv5aFdJO6WLGJFwR7",
      "include_colab_link": true
    },
    "kernelspec": {
      "name": "python3",
      "display_name": "Python 3"
    },
    "language_info": {
      "name": "python"
    }
  },
  "cells": [
    {
      "cell_type": "markdown",
      "metadata": {
        "id": "view-in-github",
        "colab_type": "text"
      },
      "source": [
        "<a href=\"https://colab.research.google.com/github/Sneha-GenZ/Python_codes/blob/main/py_Codes.ipynb\" target=\"_parent\"><img src=\"https://colab.research.google.com/assets/colab-badge.svg\" alt=\"Open In Colab\"/></a>"
      ]
    },
    {
      "cell_type": "markdown",
      "source": [
        "## **Python Assignment**\n",
        "---------------------------------------------------------------------------\n",
        "Q1. L is a list defined as L= [11, 12, 13, 14]."
      ],
      "metadata": {
        "id": "cKWjkyqG5E4u"
      }
    },
    {
      "cell_type": "code",
      "source": [
        "#(i)WAP to add 50 and 60 to L.\n",
        "L=[11,12,13]\n",
        "L.append(50)\n",
        "L.append(60)\n",
        "print(L)"
      ],
      "metadata": {
        "colab": {
          "base_uri": "https://localhost:8080/"
        },
        "id": "o0Fz4lzU5JMN",
        "outputId": "1d389f9b-f6c1-45af-ad27-f599fe7645a3"
      },
      "execution_count": null,
      "outputs": [
        {
          "output_type": "stream",
          "name": "stdout",
          "text": [
            "[11, 12, 13, 50, 60]\n"
          ]
        }
      ]
    },
    {
      "cell_type": "code",
      "source": [
        "#(ii)WAP to remove 11 and 13from L.\n",
        "L=[11, 12, 13, 50, 60]\n",
        "L.remove(12)\n",
        "print(L)"
      ],
      "metadata": {
        "colab": {
          "base_uri": "https://localhost:8080/"
        },
        "id": "46IQhOLSlCW8",
        "outputId": "b73e3059-c374-4238-9fe1-d15a050b3ed6"
      },
      "execution_count": null,
      "outputs": [
        {
          "output_type": "stream",
          "name": "stdout",
          "text": [
            "[11, 13, 50, 60]\n"
          ]
        }
      ]
    },
    {
      "cell_type": "code",
      "source": [
        "#(iii)WAP to sort L in ascending order.\n",
        "L=[11, 12, 13, 50, 60]\n",
        "L.sort()\n",
        "print(L)"
      ],
      "metadata": {
        "colab": {
          "base_uri": "https://localhost:8080/"
        },
        "id": "CZ1cIBwyn3ec",
        "outputId": "3c0d6c21-af2f-4ffb-f952-d8e7e030ebf0"
      },
      "execution_count": null,
      "outputs": [
        {
          "output_type": "stream",
          "name": "stdout",
          "text": [
            "[11, 12, 13, 50, 60]\n"
          ]
        }
      ]
    },
    {
      "cell_type": "code",
      "source": [
        "#(iv)WAP to sort L in descending order.\n",
        "L=[11, 12, 13, 50, 60]\n",
        "L.sort(reverse=True)\n",
        "print(L)"
      ],
      "metadata": {
        "colab": {
          "base_uri": "https://localhost:8080/"
        },
        "id": "tBxXiNGtoOU3",
        "outputId": "8c2aa417-9214-4eeb-a750-81d23b1b0343"
      },
      "execution_count": null,
      "outputs": [
        {
          "output_type": "stream",
          "name": "stdout",
          "text": [
            "[60, 50, 13, 12, 11]\n"
          ]
        }
      ]
    },
    {
      "cell_type": "code",
      "source": [
        "#(v)WAP to search for 13 in L.\n",
        "L=[11, 12, 13, 50, 60]\n",
        "print(13 in L)"
      ],
      "metadata": {
        "colab": {
          "base_uri": "https://localhost:8080/"
        },
        "id": "a7WjTiglokgV",
        "outputId": "c94a9d73-20a1-4f85-be6b-052edea33174"
      },
      "execution_count": null,
      "outputs": [
        {
          "output_type": "stream",
          "name": "stdout",
          "text": [
            "True\n"
          ]
        }
      ]
    },
    {
      "cell_type": "code",
      "source": [
        "#(vi)WAP to count the number of elements present in L.\n",
        "L=[11, 12, 13, 50, 60]\n",
        "print(len(L))"
      ],
      "metadata": {
        "colab": {
          "base_uri": "https://localhost:8080/"
        },
        "id": "MTp_bi9jo9AB",
        "outputId": "1b2cb385-a34e-45ae-f86b-a66352a6d0ff"
      },
      "execution_count": null,
      "outputs": [
        {
          "output_type": "stream",
          "name": "stdout",
          "text": [
            "5\n"
          ]
        }
      ]
    },
    {
      "cell_type": "code",
      "source": [
        "#(vii)WAP to sum all the elements in L.\n",
        "L=[11, 12, 13, 50, 60]\n",
        "sum=0\n",
        "for i in L:\n",
        "  sum+=i\n",
        "print(sum)"
      ],
      "metadata": {
        "colab": {
          "base_uri": "https://localhost:8080/"
        },
        "id": "v7LqEEQTpR8y",
        "outputId": "6b56b027-56cd-4a91-c774-15e00cc6c74a"
      },
      "execution_count": null,
      "outputs": [
        {
          "output_type": "stream",
          "name": "stdout",
          "text": [
            "146\n"
          ]
        }
      ]
    },
    {
      "cell_type": "code",
      "source": [
        "#(viii)WAP to sum all ODD numbers in L.\n",
        "L=[11, 12, 13, 50, 60]\n",
        "sum=0\n",
        "for i in L:\n",
        "  if i%2 != 0:\n",
        "    sum+=i\n",
        "  else:\n",
        "    continue\n",
        "print(sum)"
      ],
      "metadata": {
        "colab": {
          "base_uri": "https://localhost:8080/"
        },
        "id": "L1238x3Cp5cg",
        "outputId": "1027e5f5-e263-4815-c24c-b20789325f94"
      },
      "execution_count": null,
      "outputs": [
        {
          "output_type": "stream",
          "name": "stdout",
          "text": [
            "24\n"
          ]
        }
      ]
    },
    {
      "cell_type": "code",
      "source": [
        "#(ix)WAP to sum all EVEN numbers in L.\n",
        "L=[11, 12, 13, 50, 60]\n",
        "sum=0\n",
        "for i in L:\n",
        "  if i%2 == 0:\n",
        "    sum+=i\n",
        "  else:\n",
        "    continue\n",
        "print(sum)"
      ],
      "metadata": {
        "colab": {
          "base_uri": "https://localhost:8080/"
        },
        "id": "IHKNn4ilrHWM",
        "outputId": "c539fcc6-fbab-41cf-83f6-703a0088b253"
      },
      "execution_count": null,
      "outputs": [
        {
          "output_type": "stream",
          "name": "stdout",
          "text": [
            "122\n"
          ]
        }
      ]
    },
    {
      "cell_type": "code",
      "source": [
        "#(x)WAP to sum all PRIME numbers in L.\n",
        "L=[11, 12, 13, 50, 60]\n",
        "sum=0\n",
        "j = 0\n",
        "for num in L:\n",
        "  for num in range(2,num//2+1):\n",
        "    if num%2==0:\n",
        "      flag=1\n",
        "      break\n",
        "if flag==0:\n",
        "  sum+=num\n",
        "print(sum)"
      ],
      "metadata": {
        "colab": {
          "base_uri": "https://localhost:8080/",
          "height": 211
        },
        "id": "_FMGipQmrQNn",
        "outputId": "4e12c6f0-f05e-4471-9e8b-53ed98b9088c"
      },
      "execution_count": null,
      "outputs": [
        {
          "output_type": "error",
          "ename": "IndexError",
          "evalue": "list index out of range",
          "traceback": [
            "\u001b[0;31m---------------------------------------------------------------------------\u001b[0m",
            "\u001b[0;31mIndexError\u001b[0m                                Traceback (most recent call last)",
            "\u001b[0;32m<ipython-input-53-5e0cc36e764c>\u001b[0m in \u001b[0;36m<cell line: 5>\u001b[0;34m()\u001b[0m\n\u001b[1;32m      4\u001b[0m \u001b[0mj\u001b[0m \u001b[0;34m=\u001b[0m \u001b[0;36m0\u001b[0m\u001b[0;34m\u001b[0m\u001b[0;34m\u001b[0m\u001b[0m\n\u001b[1;32m      5\u001b[0m \u001b[0;32mfor\u001b[0m \u001b[0mnum\u001b[0m \u001b[0;32min\u001b[0m \u001b[0mL\u001b[0m\u001b[0;34m:\u001b[0m\u001b[0;34m\u001b[0m\u001b[0;34m\u001b[0m\u001b[0m\n\u001b[0;32m----> 6\u001b[0;31m   \u001b[0;32mfor\u001b[0m \u001b[0mnum\u001b[0m \u001b[0;32min\u001b[0m \u001b[0mrange\u001b[0m\u001b[0;34m(\u001b[0m\u001b[0;36m2\u001b[0m\u001b[0;34m,\u001b[0m\u001b[0mL\u001b[0m\u001b[0;34m[\u001b[0m\u001b[0mnum\u001b[0m\u001b[0;34m]\u001b[0m\u001b[0;34m//\u001b[0m\u001b[0;36m2\u001b[0m\u001b[0;34m+\u001b[0m\u001b[0;36m1\u001b[0m\u001b[0;34m)\u001b[0m\u001b[0;34m:\u001b[0m\u001b[0;34m\u001b[0m\u001b[0;34m\u001b[0m\u001b[0m\n\u001b[0m\u001b[1;32m      7\u001b[0m     \u001b[0;32mif\u001b[0m \u001b[0mL\u001b[0m\u001b[0;34m[\u001b[0m\u001b[0mnum\u001b[0m\u001b[0;34m]\u001b[0m\u001b[0;34m%\u001b[0m\u001b[0mnum\u001b[0m\u001b[0;34m==\u001b[0m\u001b[0;36m0\u001b[0m\u001b[0;34m:\u001b[0m\u001b[0;34m\u001b[0m\u001b[0;34m\u001b[0m\u001b[0m\n\u001b[1;32m      8\u001b[0m       \u001b[0mflag\u001b[0m\u001b[0;34m=\u001b[0m\u001b[0;36m1\u001b[0m\u001b[0;34m\u001b[0m\u001b[0;34m\u001b[0m\u001b[0m\n",
            "\u001b[0;31mIndexError\u001b[0m: list index out of range"
          ]
        }
      ]
    },
    {
      "cell_type": "code",
      "source": [
        "#(x) WAP to sum all PRIME numbers in L.\n",
        "L = [11, 12, 13, 50, 60]\n",
        "prime_sum = 0\n",
        "\n",
        "for num in L:\n",
        "    if num > 1:\n",
        "        is_prime = True\n",
        "        for i in range(2, num // 2 + 1):\n",
        "            if num % i == 0:\n",
        "                is_prime = False\n",
        "                break\n",
        "        if is_prime:\n",
        "            prime_sum += num\n",
        "\n",
        "print(prime_sum)"
      ],
      "metadata": {
        "colab": {
          "base_uri": "https://localhost:8080/"
        },
        "id": "rFGrD41C8SuE",
        "outputId": "8fea8cb7-169e-4d52-9c70-c882d0bf2aef"
      },
      "execution_count": null,
      "outputs": [
        {
          "output_type": "stream",
          "name": "stdout",
          "text": [
            "24\n"
          ]
        }
      ]
    },
    {
      "cell_type": "code",
      "source": [
        "#(xi)WAP to delete L.\n",
        "L=[11, 12, 13, 50, 60]\n",
        "del(L)\n",
        "print(L)\n",
        "#Shows error as \"del\" deletes the data as well as the variable which stores it."
      ],
      "metadata": {
        "colab": {
          "base_uri": "https://localhost:8080/",
          "height": 176
        },
        "id": "eit6PYqQvN1g",
        "outputId": "fd1c3d6b-2bcd-4447-c908-d9c8f1d5bc6e"
      },
      "execution_count": null,
      "outputs": [
        {
          "output_type": "error",
          "ename": "NameError",
          "evalue": "name 'L' is not defined",
          "traceback": [
            "\u001b[0;31m---------------------------------------------------------------------------\u001b[0m",
            "\u001b[0;31mNameError\u001b[0m                                 Traceback (most recent call last)",
            "\u001b[0;32m<ipython-input-22-1bd748ca60cf>\u001b[0m in \u001b[0;36m<cell line: 4>\u001b[0;34m()\u001b[0m\n\u001b[1;32m      2\u001b[0m \u001b[0mL\u001b[0m\u001b[0;34m=\u001b[0m\u001b[0;34m[\u001b[0m\u001b[0;36m11\u001b[0m\u001b[0;34m,\u001b[0m \u001b[0;36m12\u001b[0m\u001b[0;34m,\u001b[0m \u001b[0;36m13\u001b[0m\u001b[0;34m,\u001b[0m \u001b[0;36m50\u001b[0m\u001b[0;34m,\u001b[0m \u001b[0;36m60\u001b[0m\u001b[0;34m]\u001b[0m\u001b[0;34m\u001b[0m\u001b[0;34m\u001b[0m\u001b[0m\n\u001b[1;32m      3\u001b[0m \u001b[0;32mdel\u001b[0m\u001b[0;34m(\u001b[0m\u001b[0mL\u001b[0m\u001b[0;34m)\u001b[0m\u001b[0;34m\u001b[0m\u001b[0;34m\u001b[0m\u001b[0m\n\u001b[0;32m----> 4\u001b[0;31m \u001b[0mprint\u001b[0m\u001b[0;34m(\u001b[0m\u001b[0mL\u001b[0m\u001b[0;34m)\u001b[0m\u001b[0;34m\u001b[0m\u001b[0;34m\u001b[0m\u001b[0m\n\u001b[0m",
            "\u001b[0;31mNameError\u001b[0m: name 'L' is not defined"
          ]
        }
      ]
    },
    {
      "cell_type": "code",
      "source": [
        "#(xii) WAP to clear all the elements in L.\n",
        "L=[11, 12, 13, 50, 60]\n",
        "L.clear()\n",
        "print(L)"
      ],
      "metadata": {
        "colab": {
          "base_uri": "https://localhost:8080/"
        },
        "id": "rbOa9UbtveTN",
        "outputId": "8a01ae73-9101-4323-d27f-de023746bb42"
      },
      "execution_count": null,
      "outputs": [
        {
          "output_type": "stream",
          "name": "stdout",
          "text": [
            "[]\n"
          ]
        }
      ]
    },
    {
      "cell_type": "markdown",
      "source": [
        "# **Data Structure-Dictionary**\n",
        "Q2. D is a dictionary defined as D= {1:5.6, 2:7.8, 3:6.6, 4:8.7, 5:7.7}."
      ],
      "metadata": {
        "id": "FgSTdWJB66MQ"
      }
    },
    {
      "cell_type": "code",
      "source": [
        "#(i) WAP to add new entry in D; key=8 and value is 8.8\n",
        "D= {1:5.6, 2:7.8, 3:6.6, 4:8.7, 5:7.7}\n",
        "D[8]=8.8\n",
        "print(D)"
      ],
      "metadata": {
        "id": "sAtL64VC7C4O",
        "colab": {
          "base_uri": "https://localhost:8080/"
        },
        "outputId": "bb338527-1661-44d5-da61-cc619dc1e11b"
      },
      "execution_count": null,
      "outputs": [
        {
          "output_type": "stream",
          "name": "stdout",
          "text": [
            "{1: 5.6, 2: 7.8, 3: 6.6, 4: 8.7, 5: 7.7, 8: 8.8}\n"
          ]
        }
      ]
    },
    {
      "cell_type": "code",
      "source": [
        "#(ii) WAP to remove key=2.\n",
        "D= {1:5.6, 2:7.8, 3:6.6, 4:8.7, 5:7.7}\n",
        "del D[2]\n",
        "print(D)"
      ],
      "metadata": {
        "colab": {
          "base_uri": "https://localhost:8080/"
        },
        "id": "d3BRhQxQ7t-_",
        "outputId": "6055520d-61ee-4859-a36e-fed5806e04b3"
      },
      "execution_count": null,
      "outputs": [
        {
          "output_type": "stream",
          "name": "stdout",
          "text": [
            "{1: 5.6, 3: 6.6, 4: 8.7, 5: 7.7}\n"
          ]
        }
      ]
    },
    {
      "cell_type": "code",
      "source": [
        "#(iii) WAP to check whether 6 key is present in D.\n",
        "D= {1:5.6, 2:7.8, 3:6.6, 4:8.7, 5:7.7}\n",
        "print(6 in D)"
      ],
      "metadata": {
        "colab": {
          "base_uri": "https://localhost:8080/"
        },
        "id": "GuBuBJiD8TyF",
        "outputId": "1d3199a2-fa5e-4fbd-de2e-e2ec40af5535"
      },
      "execution_count": null,
      "outputs": [
        {
          "output_type": "stream",
          "name": "stdout",
          "text": [
            "False\n"
          ]
        }
      ]
    },
    {
      "cell_type": "code",
      "source": [
        "#(iv) WAP to count the number of elements present in D.\n",
        "D= {1:5.6, 2:7.8, 3:6.6, 4:8.7, 5:7.7}\n",
        "len(D)"
      ],
      "metadata": {
        "colab": {
          "base_uri": "https://localhost:8080/"
        },
        "id": "jT2ZTnTmUh1E",
        "outputId": "2c67d6c6-6975-4d3e-97d3-0603b5db2074"
      },
      "execution_count": null,
      "outputs": [
        {
          "output_type": "execute_result",
          "data": {
            "text/plain": [
              "5"
            ]
          },
          "metadata": {},
          "execution_count": 1
        }
      ]
    },
    {
      "cell_type": "code",
      "source": [
        "#(v) WAP to add all the values present D.\n",
        "D= {1:5.6, 2:7.8, 3:6.6, 4:8.7, 5:7.7}\n",
        "sum(D.values())"
      ],
      "metadata": {
        "colab": {
          "base_uri": "https://localhost:8080/"
        },
        "id": "ixzsdKqCioc9",
        "outputId": "57a83d47-d08f-49f3-cd97-7bac29075b9c"
      },
      "execution_count": null,
      "outputs": [
        {
          "output_type": "execute_result",
          "data": {
            "text/plain": [
              "36.4"
            ]
          },
          "metadata": {},
          "execution_count": 7
        }
      ]
    },
    {
      "cell_type": "code",
      "source": [
        "#(vi) WAP to update the value of 3 to 7.1.\n",
        "D= {1:5.6, 2:7.8, 3:6.6, 4:8.7, 5:7.7}\n",
        "D[3]=7.1\n",
        "print(D)"
      ],
      "metadata": {
        "colab": {
          "base_uri": "https://localhost:8080/"
        },
        "id": "jXLPMJqoj2bW",
        "outputId": "3db0e297-c1d1-4c03-a557-ddf4bb334775"
      },
      "execution_count": null,
      "outputs": [
        {
          "output_type": "stream",
          "name": "stdout",
          "text": [
            "{1: 5.6, 2: 7.8, 3: 7.1, 4: 8.7, 5: 7.7}\n"
          ]
        }
      ]
    },
    {
      "cell_type": "code",
      "source": [
        "#(vii) WAP to clear the dictionary.\n",
        "D= {1:5.6, 2:7.8, 3:6.6, 4:8.7, 5:7.7}\n",
        "D.clear()\n",
        "print (\"After Clear --> \",D)"
      ],
      "metadata": {
        "colab": {
          "base_uri": "https://localhost:8080/"
        },
        "id": "FXVk_WzokaKv",
        "outputId": "8b6c5651-8d72-4b0f-f84f-037d8bbaf1c9"
      },
      "execution_count": null,
      "outputs": [
        {
          "output_type": "stream",
          "name": "stdout",
          "text": [
            "After Clear -->  {}\n"
          ]
        }
      ]
    },
    {
      "cell_type": "markdown",
      "source": [
        "# **Data Structure - Set**\n",
        "\n",
        "*   Q3. S1 is a set defined as S1= [10, 20, 30, 40, 50, 60].\n",
        "*   S2 is a set defined as S2= [40, 50, 60, 70, 80, 90].\n",
        "\n",
        "\n"
      ],
      "metadata": {
        "id": "CqZx_S04k4S-"
      }
    },
    {
      "cell_type": "code",
      "source": [
        "#(i) WAP to add 55 and 66 in Set S1.\n",
        "S1 = set([\"10\", \"20\", \"30\", \"40\", \"50\", \"60\"])\n",
        "S1.add(55)\n",
        "S1.add(66)\n",
        "print (\"Set After Adding (55 & 66) --> \", S1)"
      ],
      "metadata": {
        "colab": {
          "base_uri": "https://localhost:8080/"
        },
        "id": "97RD8qVZlf0h",
        "outputId": "767e57c1-e583-485b-952e-aba25f5e9ad1"
      },
      "execution_count": null,
      "outputs": [
        {
          "output_type": "stream",
          "name": "stdout",
          "text": [
            "Set After Adding (55 & 66) -->  {'10', 66, '50', '40', 55, '30', '60', '20'}\n"
          ]
        }
      ]
    },
    {
      "cell_type": "code",
      "source": [
        "#(ii) WAP to remove 10 and 30 from Set S1.\n",
        "S1 = set(['10', '20', 30, '40', '50', '60'])\n",
        "S1.remove('10')\n",
        "S1.remove(30)\n",
        "print (\"Set After removing (10 & 30) --> \", S1)"
      ],
      "metadata": {
        "colab": {
          "base_uri": "https://localhost:8080/"
        },
        "id": "uJHUlbFImm2F",
        "outputId": "df48aa78-6a7b-4828-d932-84620e5f370a"
      },
      "execution_count": null,
      "outputs": [
        {
          "output_type": "stream",
          "name": "stdout",
          "text": [
            "Set After removing (10 & 30) -->  {'50', '40', '60', '20'}\n"
          ]
        }
      ]
    },
    {
      "cell_type": "code",
      "source": [
        "#(iii) WAP to check whether 40 is present in S1.\n",
        "S1 = set([10, 20, 30, 40, 50, 60])\n",
        "print(40 in S1)"
      ],
      "metadata": {
        "colab": {
          "base_uri": "https://localhost:8080/"
        },
        "id": "2rF1BA72nGSi",
        "outputId": "d284f471-b1e2-4661-8522-b8bd35e3287d"
      },
      "execution_count": null,
      "outputs": [
        {
          "output_type": "stream",
          "name": "stdout",
          "text": [
            "True\n"
          ]
        }
      ]
    },
    {
      "cell_type": "code",
      "source": [
        "#(iv) WAP to find the union between S1 and S2.\n",
        "S1 = set([\"10\", \"20\", \"30\", \"40\", \"50\", \"60\"])\n",
        "S2 = set([\"40\", '50', '60', '70', '80', \"90\"])\n",
        "print (\"Original set S1      --> \", S1)\n",
        "print (\"Original set S2      --> \", S2)\n",
        "print (\"Union of S1 and S2    --> \", S1.union(S2))"
      ],
      "metadata": {
        "colab": {
          "base_uri": "https://localhost:8080/"
        },
        "id": "HEk5ecUWoZ4f",
        "outputId": "2075779c-c6ce-487b-8c92-89c5567f5e9a"
      },
      "execution_count": null,
      "outputs": [
        {
          "output_type": "stream",
          "name": "stdout",
          "text": [
            "Original set S1      -->  {'10', '50', '40', '30', '60', '20'}\n",
            "Original set S2      -->  {'50', '70', '90', '80', '40', '60'}\n",
            "Union of S1 and S2    -->  {'10', '50', '70', '90', '80', '40', '30', '60', '20'}\n"
          ]
        }
      ]
    },
    {
      "cell_type": "code",
      "source": [
        "#(v) WAP to find the intersection between S1 and S2.\n",
        "S1 = set([\"10\", \"20\", \"30\", \"40\", \"50\", \"60\"])\n",
        "S2 = set([\"40\", '50', '60', '70', '80', \"90\"])\n",
        "print (\"Original set S1      --> \", S1)\n",
        "print (\"Original set S2      --> \", S2)\n",
        "print (\"Union of S1 and S2    --> \", S1.intersection(S2))\n",
        "print (\"Union of S1 and S2    --> \", S2.intersection(S1))"
      ],
      "metadata": {
        "colab": {
          "base_uri": "https://localhost:8080/"
        },
        "id": "c1_o3ZtzpOI6",
        "outputId": "e542e432-a138-41e5-de94-906d7915862f"
      },
      "execution_count": null,
      "outputs": [
        {
          "output_type": "stream",
          "name": "stdout",
          "text": [
            "Original set S1      -->  {'10', '50', '40', '30', '60', '20'}\n",
            "Original set S2      -->  {'50', '70', '90', '80', '40', '60'}\n",
            "Union of S1 and S2    -->  {'60', '40', '50'}\n",
            "Union of S1 and S2    -->  {'60', '40', '50'}\n"
          ]
        }
      ]
    },
    {
      "cell_type": "code",
      "source": [
        "#(vi) WAP to find the S1 - S2.\n",
        "S1 = set([\"10\", \"20\", \"30\", \"40\", \"50\", \"60\"])\n",
        "S2 = set([\"40\", '50', '60', '70', '80', \"90\"])\n",
        "print (\"Original set S1      --> \", S1)\n",
        "print (\"Original set S2      --> \", S2)\n",
        "print (\"S1 - S2   --> \", S1-S2 )"
      ],
      "metadata": {
        "colab": {
          "base_uri": "https://localhost:8080/"
        },
        "id": "Pzjse7prpsNf",
        "outputId": "ff9fd49d-5d81-4ec8-eee6-d9a8e1256243"
      },
      "execution_count": null,
      "outputs": [
        {
          "output_type": "stream",
          "name": "stdout",
          "text": [
            "Original set S1      -->  {'10', '50', '40', '30', '60', '20'}\n",
            "Original set S2      -->  {'50', '70', '90', '80', '40', '60'}\n",
            "S1 - S2   -->  {'30', '10', '20'}\n"
          ]
        }
      ]
    },
    {
      "cell_type": "markdown",
      "source": [
        "# **Additional**\n",
        "Q4. Write the following program.\n",
        "* (i) WAP to print 100 random strings whose length between 6 and 8."
      ],
      "metadata": {
        "id": "zu4G2E9MvgBH"
      }
    },
    {
      "cell_type": "code",
      "source": [
        "import random as r\n",
        "import string as s\n",
        "for i in range(100):\n",
        "  val=\"\".join(r.sample(s.ascii_letters,r.randint(6,8)))\n",
        "  print(val)"
      ],
      "metadata": {
        "colab": {
          "base_uri": "https://localhost:8080/"
        },
        "id": "w-BdxE0wG8mp",
        "outputId": "917ce7d5-1a98-44a1-ba29-78a363113125"
      },
      "execution_count": null,
      "outputs": [
        {
          "output_type": "stream",
          "name": "stdout",
          "text": [
            "BsyzmL\n",
            "XpKCbYS\n",
            "LeTIrN\n",
            "YBsZzH\n",
            "QJrxaVGI\n",
            "zNPsyM\n",
            "ujrUJmnT\n",
            "MutaycdZ\n",
            "sYvRJT\n",
            "koWLgGpA\n",
            "qnDSjg\n",
            "IQkYdo\n",
            "ysxFGp\n",
            "xSQpUMqC\n",
            "MGVRieqs\n",
            "JiTNoz\n",
            "DCZgkepO\n",
            "oLadEIl\n",
            "QmDOLei\n",
            "IhgPuCj\n",
            "BuahtnOg\n",
            "rpmqDIH\n",
            "ZxdNgfY\n",
            "dtSNWqsY\n",
            "GXSMrEbO\n",
            "gkGOxefF\n",
            "jSyihMPK\n",
            "rRkDygI\n",
            "DxNugo\n",
            "qULdWf\n",
            "EpeuKSQ\n",
            "KHIFLit\n",
            "XauEnLY\n",
            "vQTJVf\n",
            "PdEakuYx\n",
            "NejIXAoM\n",
            "YkOluFJ\n",
            "KkYteHx\n",
            "OlbZFJU\n",
            "KnzrwQ\n",
            "pFodyP\n",
            "iugKGcFz\n",
            "MAbqBtaX\n",
            "ZXQvRyY\n",
            "DaOtbc\n",
            "kmuEpD\n",
            "HcrUVhs\n",
            "hAcaWHKz\n",
            "NctPidRx\n",
            "tzFSlAW\n",
            "QEngiS\n",
            "TkWIut\n",
            "iDoEPVYx\n",
            "bQmgpt\n",
            "yQoDJemZ\n",
            "FnCptce\n",
            "GlaURZ\n",
            "nKZIoDBA\n",
            "UxVtrc\n",
            "BgyiXHaZ\n",
            "yAqUSp\n",
            "RvzEMIl\n",
            "hDVaGS\n",
            "wEPoBaKJ\n",
            "yHjAYnF\n",
            "mHInvb\n",
            "WebDgcK\n",
            "hwTMBAQI\n",
            "urzwptH\n",
            "qFzlhQ\n",
            "BdYmlP\n",
            "HmdQagFv\n",
            "ofjkiRmT\n",
            "xLCkgX\n",
            "WDnBmbP\n",
            "rThdmyE\n",
            "vmeIDr\n",
            "lkXQoqML\n",
            "pZhkNAyY\n",
            "dPFmYwZt\n",
            "SpoRFXG\n",
            "mrxKyB\n",
            "GJurRTHI\n",
            "CiQSOl\n",
            "MPiwoaE\n",
            "esLjHXu\n",
            "PvGIsJ\n",
            "IVGHbhR\n",
            "NxvZWIgl\n",
            "XMOnQoDu\n",
            "LENgRK\n",
            "ogSDpR\n",
            "VFhSzRXN\n",
            "YhgivWP\n",
            "sydqUhX\n",
            "KziXnIB\n",
            "BmjhIcp\n",
            "POSBvfX\n",
            "roHNbxF\n",
            "RXFmNvLA\n"
          ]
        }
      ]
    },
    {
      "cell_type": "markdown",
      "source": [
        "Q.4.(ii) WAP to print all prime numbers between 600 and 800."
      ],
      "metadata": {
        "id": "GDSjmzg0Vwep"
      }
    },
    {
      "cell_type": "code",
      "source": [
        "print(\"Prime numbers between 600 and 800:\")\n",
        "for num in range(600,801):\n",
        "  for i in range(2,int(num//2+1)):\n",
        "    if (num%i)==0:\n",
        "        break\n",
        "  else:\n",
        "        print(num)"
      ],
      "metadata": {
        "colab": {
          "base_uri": "https://localhost:8080/"
        },
        "id": "fJj2OLxXvvrT",
        "outputId": "0c3dd231-ee8f-48f4-c5a0-3b314fdba689"
      },
      "execution_count": null,
      "outputs": [
        {
          "output_type": "stream",
          "name": "stdout",
          "text": [
            "Prime numbers between 600 and 800:\n",
            "601\n",
            "607\n",
            "613\n",
            "617\n",
            "619\n",
            "631\n",
            "641\n",
            "643\n",
            "647\n",
            "653\n",
            "659\n",
            "661\n",
            "673\n",
            "677\n",
            "683\n",
            "691\n",
            "701\n",
            "709\n",
            "719\n",
            "727\n",
            "733\n",
            "739\n",
            "743\n",
            "751\n",
            "757\n",
            "761\n",
            "769\n",
            "773\n",
            "787\n",
            "797\n"
          ]
        }
      ]
    },
    {
      "cell_type": "markdown",
      "source": [
        "Q.4.(iii) WAP to print all numbers between 100 and 1000 that are divisible by 7 and 9."
      ],
      "metadata": {
        "id": "-BmvpajRVjNN"
      }
    },
    {
      "cell_type": "code",
      "source": [
        "for num in range(100,1001):\n",
        "  if num%7==0 and num%9==0:\n",
        "    print(num)"
      ],
      "metadata": {
        "colab": {
          "base_uri": "https://localhost:8080/"
        },
        "id": "Stc3wUiYM5iR",
        "outputId": "7e14b95d-1bd8-4fec-87d1-c1d8df81484f"
      },
      "execution_count": null,
      "outputs": [
        {
          "output_type": "stream",
          "name": "stdout",
          "text": [
            "126\n",
            "189\n",
            "252\n",
            "315\n",
            "378\n",
            "441\n",
            "504\n",
            "567\n",
            "630\n",
            "693\n",
            "756\n",
            "819\n",
            "882\n",
            "945\n"
          ]
        }
      ]
    },
    {
      "cell_type": "markdown",
      "source": [
        "Q5. WAP to create two lists of 10 random numbers between 10 and 30; Find -\n",
        "\n",
        "*   Common numbers in the two lists\n",
        "*   Unique numbers in both the list\n",
        "*   Minimum in both the list\n",
        "*  Maximum in both the list\n",
        "*   Sum of both the lists\n",
        "\n",
        "\n",
        "\n",
        "\n",
        "\n",
        "\n",
        "\n"
      ],
      "metadata": {
        "id": "mkqKw1QfPYng"
      }
    },
    {
      "cell_type": "code",
      "source": [
        "L1=[]\n",
        "L2=[]\n",
        "for i in range(11):\n",
        "  num=r.randint(10,30)\n",
        "  n=r.randint(10,30)\n",
        "  L1.append(num)\n",
        "  L2.append(n)\n",
        "print(L1)\n",
        "print(L2)"
      ],
      "metadata": {
        "colab": {
          "base_uri": "https://localhost:8080/"
        },
        "id": "4LnswM-HPSvG",
        "outputId": "4ace01f8-a7e6-4118-f7cf-8047dbb0cb72"
      },
      "execution_count": null,
      "outputs": [
        {
          "output_type": "stream",
          "name": "stdout",
          "text": [
            "[27, 26, 14, 26, 12, 29, 13, 29, 10, 16, 27]\n",
            "[27, 30, 20, 14, 16, 15, 12, 10, 14, 28, 14]\n"
          ]
        }
      ]
    },
    {
      "cell_type": "markdown",
      "source": [
        "Q6. WAP to create a list of 100 random numbers between 100 and 900. Count and print the:\n",
        "*    (i) All odd numbers\n",
        "*(ii) All even numbers\n",
        "*(iii) All prime numbers\n"
      ],
      "metadata": {
        "id": "Sw0KP6dRYFCm"
      }
    },
    {
      "cell_type": "code",
      "source": [
        "import random as r\n",
        "l=[]\n",
        "l1=[]\n",
        "l2=[]\n",
        "l3=[]\n",
        "\n",
        "for i in range(0,101):\n",
        "  n=r.randint(100,900)\n",
        "  l.append(n)\n",
        "\n",
        "for i in range(0,101):\n",
        "   if i%2 !=0:\n",
        "     l1.append(i)\n",
        "\n",
        "for i in range(0,101):\n",
        "   if i%2 ==0:\n",
        "     l2.append(i)\n",
        "\n",
        "for i in range(2,n//2+1):\n",
        "  if n%i !=0:\n",
        "    l3.append(i)\n",
        "\n",
        "print(\"List of 100 random numbers between 100 and 900 : \",l)\n",
        "print(\"All odd numbers : \",l1)\n",
        "print(\"All even numbers : \",l2)\n",
        "print(\"All prime numbers : \",l3)"
      ],
      "metadata": {
        "colab": {
          "base_uri": "https://localhost:8080/"
        },
        "id": "kf8AQYJyYNdJ",
        "outputId": "a0c3876a-ca00-46ce-aa75-751ecd74199b"
      },
      "execution_count": null,
      "outputs": [
        {
          "output_type": "stream",
          "name": "stdout",
          "text": [
            "List of 100 random numbers between 100 and 900 :  [662, 841, 746, 187, 351, 517, 643, 652, 116, 371, 548, 609, 219, 548, 256, 612, 711, 172, 895, 278, 845, 474, 593, 365, 857, 842, 654, 604, 118, 607, 566, 492, 728, 551, 592, 698, 877, 795, 138, 137, 560, 287, 608, 260, 483, 674, 648, 530, 584, 468, 140, 496, 107, 442, 453, 106, 599, 687, 214, 893, 658, 374, 161, 250, 582, 419, 674, 677, 832, 213, 717, 601, 494, 258, 870, 123, 716, 253, 143, 248, 456, 440, 393, 393, 366, 117, 230, 457, 394, 124, 323, 269, 759, 862, 238, 497, 305, 429, 764, 616, 338]\n",
            "All odd numbers :  [1, 3, 5, 7, 9, 11, 13, 15, 17, 19, 21, 23, 25, 27, 29, 31, 33, 35, 37, 39, 41, 43, 45, 47, 49, 51, 53, 55, 57, 59, 61, 63, 65, 67, 69, 71, 73, 75, 77, 79, 81, 83, 85, 87, 89, 91, 93, 95, 97, 99]\n",
            "All even numbers :  [0, 2, 4, 6, 8, 10, 12, 14, 16, 18, 20, 22, 24, 26, 28, 30, 32, 34, 36, 38, 40, 42, 44, 46, 48, 50, 52, 54, 56, 58, 60, 62, 64, 66, 68, 70, 72, 74, 76, 78, 80, 82, 84, 86, 88, 90, 92, 94, 96, 98, 100]\n",
            "All prime numbers :  [3, 4, 5, 6, 7, 8, 9, 10, 11, 12, 14, 15, 16, 17, 18, 19, 20, 21, 22, 23, 24, 25, 27, 28, 29, 30, 31, 32, 33, 34, 35, 36, 37, 38, 39, 40, 41, 42, 43, 44, 45, 46, 47, 48, 49, 50, 51, 52, 53, 54, 55, 56, 57, 58, 59, 60, 61, 62, 63, 64, 65, 66, 67, 68, 69, 70, 71, 72, 73, 74, 75, 76, 77, 78, 79, 80, 81, 82, 83, 84, 85, 86, 87, 88, 89, 90, 91, 92, 93, 94, 95, 96, 97, 98, 99, 100, 101, 102, 103, 104, 105, 106, 107, 108, 109, 110, 111, 112, 113, 114, 115, 116, 117, 118, 119, 120, 121, 122, 123, 124, 125, 126, 127, 128, 129, 130, 131, 132, 133, 134, 135, 136, 137, 138, 139, 140, 141, 142, 143, 144, 145, 146, 147, 148, 149, 150, 151, 152, 153, 154, 155, 156, 157, 158, 159, 160, 161, 162, 163, 164, 165, 166, 167, 168]\n"
          ]
        }
      ]
    },
    {
      "cell_type": "code",
      "source": [
        "print(l1)"
      ],
      "metadata": {
        "colab": {
          "base_uri": "https://localhost:8080/"
        },
        "id": "A_o8OghM5R7A",
        "outputId": "deb58df4-fcfa-4da2-d4b7-b3cc49da5646"
      },
      "execution_count": null,
      "outputs": [
        {
          "output_type": "stream",
          "name": "stdout",
          "text": [
            "[152, 482, 655, 306, 545, 115, 164, 803, 406, 576, 382, 301, 336, 827, 402, 112, 877, 815, 285, 509, 173, 579, 837, 552, 247, 246, 172, 580, 644, 395, 380, 741, 619, 393, 369, 579, 250, 637, 406, 103, 159, 702, 108, 828, 691, 889, 303, 142, 871, 696, 125, 120, 842, 333, 646, 865, 143, 602, 607, 132, 791, 574, 638, 420, 687, 261, 576, 475, 276, 348, 811, 896, 829, 640, 877, 388, 761, 828, 186, 723, 274, 728, 403, 778, 427, 350, 788, 686, 376, 885, 194, 418, 648, 819, 594, 380, 356, 177, 839, 211, 285]\n"
          ]
        }
      ]
    },
    {
      "cell_type": "markdown",
      "source": [
        "Q7. D is a dictionary defined as D={1:\"One\",2:\"Two\",3:\"Three\",4:\"Four\", 5:\"Five\"}.\n",
        " WAP to read all the keys and values from dictionary and write to the file in the given below format.\n",
        "\n",
        "*  Key1, Value1\n",
        "*   Key2, Value2\n",
        "*  Key3, Value3\n",
        "\n"
      ],
      "metadata": {
        "id": "3PWW1ibntUos"
      }
    },
    {
      "cell_type": "code",
      "source": [
        "D = {1: \"One\", 2: \"Two\", 3: \"Three\", 4: \"Four\", 5: \"Five\"}\n",
        "\n",
        "# Open a file in write mode\n",
        "with open(\"output.txt\", \"w\") as file:\n",
        "    # Iterate through the dictionary\n",
        "    for key, value in D.items():\n",
        "        # Write key-value pairs to the file\n",
        "        file.write(f\"{key}, {value}\\n\")\n",
        "# Read from file\n",
        "with open(\"output.txt\", \"r\") as file:\n",
        "    for line in file:\n",
        "        # Split the line into key and value\n",
        "        key, value = line.strip().split(\", \")\n",
        "        print(f\"Key: {key}, Value: {value}\")"
      ],
      "metadata": {
        "colab": {
          "base_uri": "https://localhost:8080/"
        },
        "id": "wGvnjbsItNpT",
        "outputId": "a1e340c5-ba79-4cdb-ca43-fb09e1244602"
      },
      "execution_count": null,
      "outputs": [
        {
          "output_type": "stream",
          "name": "stdout",
          "text": [
            "Key: 1, Value: One\n",
            "Key: 2, Value: Two\n",
            "Key: 3, Value: Three\n",
            "Key: 4, Value: Four\n",
            "Key: 5, Value: Five\n"
          ]
        }
      ]
    },
    {
      "cell_type": "markdown",
      "source": [
        "Q8. L is a list defined as L={\"One\",\"Two\",\"Three\",\"Four\",\"Five\"}.\n",
        "* WAP to count the length of reach element from a list and write to the file in the given below format:\n",
        "--->One, 3\n",
        "--->Two, 3\n",
        "--->Four, 4"
      ],
      "metadata": {
        "id": "1Cje_XQMU5TO"
      }
    },
    {
      "cell_type": "code",
      "source": [
        "L=[\"One\",\"Two\",\"Three\",\"Four\",\"Five\"]\n",
        "for i in L:\n",
        "  print(\"--> \",i,\" , \",len(i))"
      ],
      "metadata": {
        "colab": {
          "base_uri": "https://localhost:8080/"
        },
        "id": "Pq_ZlSHwWr6T",
        "outputId": "ad262a24-60c4-42c0-885a-b3aa72b7ab8a"
      },
      "execution_count": 3,
      "outputs": [
        {
          "output_type": "stream",
          "name": "stdout",
          "text": [
            "-->  One  ,  3\n",
            "-->  Two  ,  3\n",
            "-->  Three  ,  5\n",
            "-->  Four  ,  4\n",
            "-->  Five  ,  4\n"
          ]
        }
      ]
    },
    {
      "cell_type": "markdown",
      "source": [
        "Q11. WAP to calculate the time taken by a program."
      ],
      "metadata": {
        "id": "egoMgGWkJOxz"
      }
    },
    {
      "cell_type": "code",
      "source": [
        "import time\n",
        "start_time=time.time()\n",
        "def add():\n",
        "  num1=121\n",
        "  num2=576\n",
        "  sum=num1+num2\n",
        "  return sum\n",
        "end_time = time.time()\n",
        "elapsed_time = end_time - start_time\n",
        "print(f\"Time taken by the program: {elapsed_time} seconds\")\n",
        "print(start_time)"
      ],
      "metadata": {
        "colab": {
          "base_uri": "https://localhost:8080/"
        },
        "id": "veJ-O-6z-JyZ",
        "outputId": "68f9aa7b-cf8b-40b1-b6b3-eccce8f1eef1"
      },
      "execution_count": null,
      "outputs": [
        {
          "output_type": "stream",
          "name": "stdout",
          "text": [
            "Time taken by the program: 0.0001685619354248047 seconds\n",
            "1718274694.538803\n"
          ]
        }
      ]
    },
    {
      "cell_type": "markdown",
      "source": [
        "#**Challenge Question**"
      ],
      "metadata": {
        "id": "HOv-3HLT7axV"
      }
    },
    {
      "cell_type": "code",
      "source": [
        "# Write a python program to sort the list of heterogeneous data.\n",
        "L = [\"Ram\", \"1\", \"Shyam\", \"2\", \"Aman\", \"3\"] #All the data should be of same type(i.e. string in this case) in order to  sort it.\n",
        "print(\"Before sorting :\",L)\n",
        "L.sort()\n",
        "print(\"After sorting : \",L)"
      ],
      "metadata": {
        "colab": {
          "base_uri": "https://localhost:8080/"
        },
        "id": "p1UC7Y0Ssw5y",
        "outputId": "18146595-d56b-4ed8-9965-5ae7d2c751d4"
      },
      "execution_count": null,
      "outputs": [
        {
          "output_type": "stream",
          "name": "stdout",
          "text": [
            "Before sorting : ['Ram', '1', 'Shyam', '2', 'Aman', '3']\n",
            "After sorting :  ['1', '2', '3', 'Aman', 'Ram', 'Shyam']\n"
          ]
        }
      ]
    },
    {
      "cell_type": "markdown",
      "source": [
        "Q13. WAP to create a dictionary of student marks in five subjects and you have to find the student\n",
        " having maximum and minimum average marks."
      ],
      "metadata": {
        "id": "69SJtO8EVZBi"
      }
    },
    {
      "cell_type": "code",
      "source": [
        "# Define a dictionary with student names as keys and lists of their marks as values\n",
        "student_marks = {\n",
        "    'Alice': [88, 76, 92, 85, 69],\n",
        "    'Bob': [75, 64, 80, 70, 68],\n",
        "    'Charlie': [90, 91, 85, 88, 87],\n",
        "    'David': [65, 70, 72, 60, 66],\n",
        "    'Eva': [95, 89, 92, 94, 90]\n",
        "}\n",
        "\n",
        "# Calculate the average marks for each student\n",
        "average_marks = {}\n",
        "for student, marks in student_marks.items():\n",
        "    average_marks[student] = sum(marks) / len(marks)\n",
        "\n",
        "# Find the student with the maximum and minimum average marks\n",
        "max_student = max(average_marks, key=average_marks.get)\n",
        "min_student = min(average_marks, key=average_marks.get)\n",
        "\n",
        "print(f\"Student with the maximum average marks: {max_student} with an average of {average_marks[max_student]:.2f}\")\n",
        "print(f\"Student with the minimum average marks: {min_student} with an average of {average_marks[min_student]:.2f}\")"
      ],
      "metadata": {
        "id": "GOhWSomvVbRL"
      },
      "execution_count": null,
      "outputs": []
    }
  ]
}
